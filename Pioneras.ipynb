{
 "cells": [
  {
   "cell_type": "markdown",
   "metadata": {
    "slideshow": {
     "slide_type": "slide"
    }
   },
   "source": [
    "<h1 style=\"color: #ddd; text-align: center; font-size: 72px;\">Hello Hello</h1>\n",
    "<h1 style=\"color: #ff8000; text-align: center; font-size: 72px;\">Pioneras</h1>"
   ]
  },
  {
   "cell_type": "markdown",
   "metadata": {
    "slideshow": {
     "slide_type": "slide"
    }
   },
   "source": [
    "<h2 style=\"color: #555; text-align: center;\">Angelica Landazabal</h2>\n",
    "<img src=\"angelica-landazabal.jpg\" style=\"width: 500px; display: inline-block;\"/>\n",
    "<p style=\"display: inline-block;/* width: 300px; */position: absolute;margin: 40px 50px;font-size: 30px;\">Soy ingeniera en informática y amante de la tecnología.  He participado cómo voluntaria, mentora y speaker en diferentes eventos TIC.  Me gusta enseñar a las personas a entender conceptos sobre programación y diseño (aunque en cocina y karate también); y si no sé la respuesta, ¡no importa! La investigamos en la web.</p>"
   ]
  },
  {
   "cell_type": "markdown",
   "metadata": {
    "slideshow": {
     "slide_type": "slide"
    }
   },
   "source": [
    "<img src=\"black-hole.jpg\" style=\"width: 20em; margin: 1em auto;\"/>"
   ]
  },
  {
   "cell_type": "markdown",
   "metadata": {
    "slideshow": {
     "slide_type": "fragment"
    }
   },
   "source": [
    "<h2 style=\"color: #555; text-align: center;\">Telescopio de Evento Horizonte - Agujero Negro</h2>\n",
    "<p style=\"text-align:center; font-size: 30px\">Creditos: Event Horizon Telescope collaboration et al.</p>"
   ]
  },
  {
   "cell_type": "markdown",
   "metadata": {
    "slideshow": {
     "slide_type": "slide"
    }
   },
   "source": [
    "<img src=\"jupyter-logo.png\" style=\"width: 40em; margin: 0 auto;\"/>"
   ]
  },
  {
   "cell_type": "markdown",
   "metadata": {
    "slideshow": {
     "slide_type": "slide"
    }
   },
   "source": [
    "<h2 style=\"color: #555; text-align: center;\">Jupyter Notebook</h2>\n",
    "<p style=\"margin: 40px 50px;font-size: 30px;\">Es una interfaz web de código abierto que permite la inclusión de texto, vídeo, audio, imágenes, así como la ejecución de código a través del navegador en múltiples lenguajes.  Esta ejecución se realiza mediante la comunicación con un núcleo de cálculo que por defecto es de Python.  Sin embargo, el carácter abierto del proyecto ha permitido aumentar el número de núcleos disponibles.</p>"
   ]
  },
  {
   "cell_type": "markdown",
   "metadata": {
    "slideshow": {
     "slide_type": "subslide"
    }
   },
   "source": [
    "<ul style=\"font-size: 30px;\">\n",
    "    <li>Jupyter soporta 40 lenguajes de programación incluyendo Python, R, Julia y Scala.</li>\n",
    "    <li>Los notebook pueden ser compartidos con otros usando el email, Dropbox y GitHub.</li>\n",
    "    <li>Se pueden producir salidas interactivas con HTML, imágenes, videos y gráficos.</li>\n",
    "    <li>Tiene integración con herramientas para el Big Data como Apache Spark.</li>\n",
    "</ul>\n",
    "<div>\n",
    "    <img src=\"python-julia.jpg\" style=\"width: 800px; margin: 1em auto;\"/>\n",
    "</div>"
   ]
  },
  {
   "cell_type": "markdown",
   "metadata": {
    "slideshow": {
     "slide_type": "slide"
    }
   },
   "source": [
    "<h2 style=\"color: #555; text-align: center;\">Origen</h2>\n",
    "<p style=\"margin: 40px 50px;font-size: 30px;\">Nació del proyecto IPython en 2014 para admitir la ciencia de datos interactivos y la informática científica.  Básicamente cuenta con las mismas funcionalidades pero añade la posibilidad de ejecutar código en múltiples lenguajes.</p>\n",
    "\n",
    "<p style=\"margin: 40px 50px;font-size: 30px;\">El desarrollo fue llevado por Fernando Pérez y Robert Kern en la Universidad de Berkeley (California, EEUU).  Se basaron en principio en el lenguaje de programación Python dado a su gran versatilidad, amplia adopción por la comunidad científica y su carácter libre.</p>\n",
    "\n",
    "<p style=\"margin: 40px 50px;font-size: 30px;\">Jupyter siempre será un software 100% de código abierto, gratuito para todos y lanzado bajo los términos liberales de la licencia BSD modificada.</p>"
   ]
  },
  {
   "cell_type": "markdown",
   "metadata": {
    "slideshow": {
     "slide_type": "slide"
    }
   },
   "source": [
    "<div style=\" text-align: center;\">\n",
    "    <h2 style=\"color: #555; text-align: center;\">Instalación</h2>\n",
    "    <div style=\"width: 600px; display: inline-block; margin: 1em; text-align: center;\">\n",
    "        <img src=\"python-logo.png\" style=\"width: 600px;\"/>\n",
    "        <a href=\"https://www.python.org/downloads/\">python.org</a>\n",
    "    </div>\n",
    "    <div style=\"width: 600px; display: inline-block; margin: 1em;  text-align: center;\">\n",
    "        <img src=\"anaconda-logo.png\" style=\"width: 600px; display: inline-block; margin: 1em 3em;\"/>\n",
    "        <a href=\"https://www.anaconda.com/products/individual\">anaconda.com</a>\n",
    "    </div>\n",
    "</div>"
   ]
  },
  {
   "cell_type": "markdown",
   "metadata": {
    "slideshow": {
     "slide_type": "slide"
    }
   },
   "source": [
    "<h2 style=\"color: #555; text-align: center;\">Interfaz</h2>"
   ]
  },
  {
   "cell_type": "markdown",
   "metadata": {
    "slideshow": {
     "slide_type": "fragment"
    }
   },
   "source": [
    "<img src=\"interfaz.png\" style=\"width: 600px; display; margin: 0 auto;\"/>"
   ]
  },
  {
   "cell_type": "code",
   "execution_count": 2,
   "metadata": {},
   "outputs": [
    {
     "name": "stdout",
     "output_type": "stream",
     "text": [
      "3\n"
     ]
    }
   ],
   "source": [
    "x = 1\n",
    "y = 2\n",
    "print( x + y )"
   ]
  },
  {
   "cell_type": "markdown",
   "metadata": {
    "slideshow": {
     "slide_type": "slide"
    }
   },
   "source": [
    "<h2 style=\"color: #555; text-align: center;\">Markdown</h2>\n",
    "<p style=\"display: inline-block;/* width: 300px; */ margin: 40px 50px; font-size: 30px;\">Para insertar texto con formato, la opción elegida por Jupyter es utilizar el lenguaje Markdown.  De este modo se pueden incluir listas, texto en negrita, cursiva e imágenes.</p>\n",
    "<ul style=\"font-size: 30px;\">\n",
    "    <li>Títulos: Se utiliza los # para indicar el nivel de jerarquía.</li>\n",
    "    <li>Texto en negrita: Se indica entre 2 pares de asteriscos.</li>\n",
    "    <li>Texto en cursiva: Se indica entre asteriscos.</li>\n",
    "    <li>Listas: Se realizan colocando un asterisco delante del item o un número seguido de un punto.</li>\n",
    "    <li>Imagen: Su sintaxis es ![nombre alternativo](dirección de la imagen)</li>\n",
    "    <li>Enlaces: Su sintaxis es muy parecida a la imagen [nombre alternativo](dirección de la imagen)</li>\n",
    "    <li>Código HTML: Se puede introducir una gran cantidad de etiquetas hasta armar una estructura.</li>\n",
    "    <li>Fórmulas matemáticas: A través de código en LaTeX dentro de los siguientes símbolos $ fórmula $</li>\n",
    "</ul>"
   ]
  },
  {
   "cell_type": "markdown",
   "metadata": {
    "slideshow": {
     "slide_type": "slide"
    }
   },
   "source": [
    "[nombre alternativo](https://aprendeconalf.es/images/logo-python.png)\n",
    "\n",
    "**Soy un texto en negrita**\n",
    "\n",
    "*Hola texto en negrita*"
   ]
  },
  {
   "cell_type": "markdown",
   "metadata": {},
   "source": [
    "<h1>Hola Python</h1>\n",
    "\n",
    "<img src=\"https://aprendeconalf.es/images/logo-python.png\" />"
   ]
  },
  {
   "cell_type": "markdown",
   "metadata": {},
   "source": [
    "$ \\sin^2 x + \\cos^2 x = 1 $"
   ]
  },
  {
   "cell_type": "markdown",
   "metadata": {
    "slideshow": {
     "slide_type": "slide"
    }
   },
   "source": [
    "<h2 style=\"color: #555; text-align: center;\">Creando presentaciones</h2>\n",
    "<img src=\"damian-avila.jpg\" style=\"width: 500px; display: inline-block;\"/>\n",
    "<p style=\"display: inline-block;/* width: 300px; */position: absolute;margin: 40px 50px;font-size: 30px;\">RISE permite realizar presentaciones en los notebooks y mostrar todo el contenido de los mismos.<br>\n",
    "Para conocer sobre el proyecto pueden ir al repositorio de GitHub de Damián Avila <a href=\"https://github.com/damianavila/RISE\">https://github.com/damianavila/RISE</a>\n",
    "\n",
    "<a href=\"https://www.youtube.com/watch?v=Uobe-csdb_A\">Keynote: La R[*]volución de Jupyter | SciPyLA 2019 | Damián Avila</a></p>\n"
   ]
  },
  {
   "cell_type": "markdown",
   "metadata": {
    "slideshow": {
     "slide_type": "slide"
    }
   },
   "source": [
    "<div style=\" text-align: center;\">\n",
    "    <h2 style=\"color: #555; text-align: center;\">Plataformas online</h2>\n",
    "    <div style=\"width: 600px; display: inline-block; margin: 1em; text-align: center;\">\n",
    "        <img src=\"googlec-logo.jpeg\" style=\"width: 600px;\"/>\n",
    "        <a href=\"https://colab.research.google.com/notebooks/welcome.ipynb?hl=es_US\">colab.research.google.com</a>\n",
    "    </div>\n",
    "    <div style=\"width: 600px; display: inline-block; margin: 1em;  text-align: center;\">\n",
    "        <img src=\"cocalc-logo.png\" style=\"width: 600px; display: inline-block; margin: 1em 3em;\"/>\n",
    "        <a href=\"https://cocalc.com/doc/jupyter-notebook.html\">cocalc.com</a>\n",
    "    </div>\n",
    "</div>"
   ]
  },
  {
   "cell_type": "markdown",
   "metadata": {
    "slideshow": {
     "slide_type": "subslide"
    }
   },
   "source": [
    "<div style=\" text-align: center;\">\n",
    "    <h2 style=\"color: #555; text-align: center;\">Plataformas online</h2>\n",
    "    <div style=\"width: 600px; display: inline-block; margin: 1em; text-align: center;\">\n",
    "        <img src=\"github-logo.png\" style=\"width: 600px;\"/>\n",
    "        <a href=\"https://github.com/ALandazabal/FLISOL2020\">github.com</a>\n",
    "    </div>\n",
    "    <div style=\"width: 600px; display: inline-block; margin: 1em;  text-align: center;\">\n",
    "        <img src=\"mybinder-logo.png\" style=\"width: 600px; display: inline-block; margin: 1em 3em;\"/>\n",
    "        <a href=\"https://mybinder.org/\">mybinder.org</a>\n",
    "    </div>\n",
    "</div>"
   ]
  },
  {
   "cell_type": "markdown",
   "metadata": {
    "slideshow": {
     "slide_type": "slide"
    }
   },
   "source": [
    "<h2 style=\"color: #555; text-align: center;\">Demo</h2>\n",
    "\n",
    "<div style=\"text-align: center; margin-top: 1em;\">\n",
    "    <a href=\"https://github.com/ALandazabal/FLISOL2020\">FLISoL 2020 - Análisis de sentimientos</a>\n",
    "</div>"
   ]
  },
  {
   "cell_type": "markdown",
   "metadata": {
    "slideshow": {
     "slide_type": "slide"
    }
   },
   "source": [
    "<h2 style=\"color: #555; text-align: center;\">Beneficios</h2>\n",
    "\n",
    "<ul style=\"font-size: 30px;\">\n",
    "    <li>Es un software libre y gratuito.</li>\n",
    "    <li>Se puede incluir código de texto en formato LaTeX que se utiliza para la elaboración de documentos científicos de amplia difusión.</li>\n",
    "    <li>Permite la inclusión de imágenes, video y enlaces a otras web.</li>\n",
    "    <li>¿Qué otros beneficios encontraste para usar Jupyter?</li>\n",
    "</ul>"
   ]
  },
  {
   "cell_type": "markdown",
   "metadata": {
    "slideshow": {
     "slide_type": "slide"
    }
   },
   "source": [
    "<h2 style=\"color: #555; text-align: center;\">Bibliografía</h2>\n",
    "<ul style=\"font-size: 30px;\">\n",
    "    <li>Jupyter documentation: https://jupyter.org/documentation</li>\n",
    "    <li>Anaconda documentation: https://docs.anaconda.com/</li>\n",
    "    <li>Online Jupyter Notebook: https://cocalc.com/doc/jupyter-notebook.html</li>\n",
    "    <li>IPython: https://es.wikipedia.org/wiki/IPython</li>\n",
    "    <li>The R manuals: https://cloud.r-project.org/index.html</li>\n",
    "    <li>Manual de uso de Jupyter Notebook para aplicaciones docentes: https://eprints.ucm.es/48304/1/ManualJupyter.pdf</li>\n",
    "</ul>"
   ]
  },
  {
   "cell_type": "markdown",
   "metadata": {
    "slideshow": {
     "slide_type": "slide"
    }
   },
   "source": [
    "<h2 style=\"color: #555; text-align: center;\">Gracias Pioneras</h2>\n",
    "<img src=\"pioneras-logo.png\" style=\"width: 20em; margin: 0 auto;\"/>"
   ]
  }
 ],
 "metadata": {
  "celltoolbar": "Slideshow",
  "kernelspec": {
   "display_name": "Python 3",
   "language": "python",
   "name": "python3"
  },
  "language_info": {
   "codemirror_mode": {
    "name": "ipython",
    "version": 3
   },
   "file_extension": ".py",
   "mimetype": "text/x-python",
   "name": "python",
   "nbconvert_exporter": "python",
   "pygments_lexer": "ipython3",
   "version": "3.7.6"
  }
 },
 "nbformat": 4,
 "nbformat_minor": 4
}
